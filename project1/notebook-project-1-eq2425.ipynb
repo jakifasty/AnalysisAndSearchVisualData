{
 "cells": [
  {
   "cell_type": "code",
   "execution_count": 1,
   "metadata": {},
   "outputs": [
    {
     "name": "stdout",
     "output_type": "stream",
     "text": [
      "Requirement already satisfied: opencv-contrib-python==3.4.2.17 in /Users/bjavierre/opt/anaconda3/envs/analysisAndSearch/lib/python3.7/site-packages (3.4.2.17)\n",
      "Requirement already satisfied: numpy>=1.14.5 in /Users/bjavierre/opt/anaconda3/envs/analysisAndSearch/lib/python3.7/site-packages (from opencv-contrib-python==3.4.2.17) (1.21.6)\n",
      "Note: you may need to restart the kernel to use updated packages.\n"
     ]
    }
   ],
   "source": [
    "pip install opencv-contrib-python==3.4.2.17"
   ]
  }
 ],
 "metadata": {
  "kernelspec": {
   "display_name": "Python 3.7.13 ('analysisAndSearch')",
   "language": "python",
   "name": "python3"
  },
  "language_info": {
   "codemirror_mode": {
    "name": "ipython",
    "version": 3
   },
   "file_extension": ".py",
   "mimetype": "text/x-python",
   "name": "python",
   "nbconvert_exporter": "python",
   "pygments_lexer": "ipython3",
   "version": "3.7.13"
  },
  "orig_nbformat": 4,
  "vscode": {
   "interpreter": {
    "hash": "b71b0a53e207f6728bdac3cddce832d5b3c067a845227f35971b9974d502adee"
   }
  }
 },
 "nbformat": 4,
 "nbformat_minor": 2
}
